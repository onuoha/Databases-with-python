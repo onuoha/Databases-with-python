{
  "nbformat": 4,
  "nbformat_minor": 0,
  "metadata": {
    "colab": {
      "name": "Using Databases with Python",
      "provenance": [],
      "authorship_tag": "ABX9TyOzTb2u6ERBLo8GgEn7bALc",
      "include_colab_link": true
    },
    "kernelspec": {
      "name": "python3",
      "display_name": "Python 3"
    },
    "language_info": {
      "name": "python"
    }
  },
  "cells": [
    {
      "cell_type": "markdown",
      "metadata": {
        "id": "view-in-github",
        "colab_type": "text"
      },
      "source": [
        "<a href=\"https://colab.research.google.com/github/onuoha/Databases-with-python/blob/main/Using_Databases_with_Python.ipynb\" target=\"_parent\"><img src=\"https://colab.research.google.com/assets/colab-badge.svg\" alt=\"Open In Colab\"/></a>"
      ]
    },
    {
      "cell_type": "code",
      "execution_count": null,
      "metadata": {
        "colab": {
          "base_uri": "https://localhost:8080/"
        },
        "id": "NQJl9_G0z0P1",
        "outputId": "91efa62f-ca32-4d02-ec8a-c56ce4d69f66"
      },
      "outputs": [
        {
          "output_type": "stream",
          "name": "stdout",
          "text": [
            "109\n"
          ]
        }
      ],
      "source": [
        "#The ord() tells the numeric values of the ASCII characters.\n",
        "\n",
        "print(ord('m'))"
      ]
    },
    {
      "cell_type": "code",
      "source": [
        "import socket\n",
        "\n",
        "mysock = socket.socket(socket.AF_INET, socket.SOCK_STREAM)\n",
        "mysock.connect(('data.pr4e.org',80))\n",
        "cmd = 'GET http://data.pr4e.org/romeo.txt HTTP/1.0\\n\\n'.encode()\n",
        "mysock.send(cmd)\n",
        "\n",
        "while True:\n",
        "  data = mysock.recv(512)\n",
        "  if (len(data) < 1):\n",
        "    break\n",
        "  mystring = data.decode() #Decode goes from byte to Unicode.\n",
        "  print(mystring) "
      ],
      "metadata": {
        "colab": {
          "base_uri": "https://localhost:8080/"
        },
        "id": "UdVXkvH-0O-U",
        "outputId": "7e5817e7-e7cb-4cd4-ec56-15f9bec6bfd2"
      },
      "execution_count": null,
      "outputs": [
        {
          "output_type": "stream",
          "name": "stdout",
          "text": [
            "HTTP/1.1 400 Bad Request\r\n",
            "Date: Thu, 09 Dec 2021 12:43:11 GMT\r\n",
            "Server: Apache/2.4.18 (Ubuntu)\r\n",
            "Content-Length: 308\r\n",
            "Connection: close\r\n",
            "Content-Type: text/html; charset=iso-8859-1\r\n",
            "\r\n",
            "<!DOCTYPE HTML PUBLIC \"-//IETF//DTD HTML 2.0//EN\">\n",
            "<html><head>\n",
            "<title>400 Bad Request</title>\n",
            "</head><body>\n",
            "<h1>Bad Request</h1>\n",
            "<p>Your browser sent a request that this server could not understand.<br />\n",
            "</p>\n",
            "<hr>\n",
            "<address>Apache/2.4.18 (Ubuntu) Server at do1.dr-chuck.com Port 80</address>\n",
            "</body></html>\n",
            "\n"
          ]
        }
      ]
    },
    {
      "cell_type": "code",
      "source": [
        "class PartyAnimal:\n",
        "  x=0\n",
        "\n",
        "  def party(self):\n",
        "    self.x = self.x + 1\n",
        "    print(\"so far\", self.x)\n",
        "\n",
        "an = PartyAnimal()\n",
        "\n",
        "an.party()"
      ],
      "metadata": {
        "colab": {
          "base_uri": "https://localhost:8080/"
        },
        "id": "IwcOXmG5t8x7",
        "outputId": "7e0aa8d9-9d0a-4d4a-d1cd-5e2c6d6cc785"
      },
      "execution_count": null,
      "outputs": [
        {
          "output_type": "stream",
          "name": "stdout",
          "text": [
            "so far 1\n"
          ]
        }
      ]
    },
    {
      "cell_type": "code",
      "source": [
        "an.party()"
      ],
      "metadata": {
        "colab": {
          "base_uri": "https://localhost:8080/"
        },
        "id": "jdL2zZQtLeXo",
        "outputId": "00f5da21-156c-46de-a986-6b069b6c1b06"
      },
      "execution_count": null,
      "outputs": [
        {
          "output_type": "stream",
          "name": "stdout",
          "text": [
            "so far 2\n"
          ]
        }
      ]
    },
    {
      "cell_type": "code",
      "source": [
        "an.party()"
      ],
      "metadata": {
        "colab": {
          "base_uri": "https://localhost:8080/"
        },
        "id": "QUlw-p0Zuk-t",
        "outputId": "f45e475f-b466-4012-896e-4c046fc920f7"
      },
      "execution_count": null,
      "outputs": [
        {
          "output_type": "stream",
          "name": "stdout",
          "text": [
            "so far 3\n"
          ]
        }
      ]
    },
    {
      "cell_type": "code",
      "source": [
        "# The constructor and destructor are optional. The first is used to set up variables. The destructor is seldom used.\n",
        "# In OOP, a constructor is a special block of statements called when an object is created.\n",
        "class PartyAnimal:\n",
        "  x=0\n",
        "\n",
        "  def __init__(self):\n",
        "    print('I am constructor')\n",
        "\n",
        "  def party(self):\n",
        "    self.x = self.x + 1\n",
        "    print(\"so far\", self.x)\n",
        "\n",
        "  def __del__(self):\n",
        "    print('I am destructed', self.x)\n",
        "an = PartyAnimal()\n",
        "an.party()\n",
        "\n",
        "\n",
        "an.party()"
      ],
      "metadata": {
        "colab": {
          "base_uri": "https://localhost:8080/"
        },
        "id": "GWR3tRDQunRM",
        "outputId": "843dce27-c4ae-4a6a-fb16-3c6d7e5fa4a0"
      },
      "execution_count": null,
      "outputs": [
        {
          "output_type": "stream",
          "name": "stdout",
          "text": [
            "I am constructor\n",
            "so far 1\n",
            "so far 2\n"
          ]
        }
      ]
    },
    {
      "cell_type": "code",
      "source": [
        "an = 2"
      ],
      "metadata": {
        "id": "J7D1Jsi32tix"
      },
      "execution_count": null,
      "outputs": []
    },
    {
      "cell_type": "code",
      "source": [
        "# The class is a template of the object. We can store onjects in distinct variables. This is called instance of the same class. Each instance has its own copy\n",
        "# of its own variable. Destructors happen as we reuse variables or as the programme ends.\n",
        "\n",
        "class PartyAnimal:\n",
        "  x=0\n",
        "  name = '';\n",
        "  def __init__(self,z):\n",
        "    self.name = z\n",
        "    print(self.name,'is constructed')\n",
        "\n",
        "  def party(self):\n",
        "    self.x = self.x + 1\n",
        "    print(self.name,\"party count\", self.x)\n",
        "\n",
        "s = PartyAnimal('Tom')\n",
        "s.party()"
      ],
      "metadata": {
        "colab": {
          "base_uri": "https://localhost:8080/"
        },
        "id": "qkqA0DZY2vQ1",
        "outputId": "1cea8447-65db-4b2e-8477-5b29e8bb2bc9"
      },
      "execution_count": 2,
      "outputs": [
        {
          "output_type": "stream",
          "name": "stdout",
          "text": [
            "Tom is constructed\n",
            "Tom party count 1\n"
          ]
        }
      ]
    },
    {
      "cell_type": "code",
      "source": [
        "j=PartyAnimal('Peter')\n",
        "j.party()"
      ],
      "metadata": {
        "colab": {
          "base_uri": "https://localhost:8080/"
        },
        "id": "jLB7OU9N6yhG",
        "outputId": "b0b7e885-ab38-49bf-a136-ba9cd797f433"
      },
      "execution_count": 3,
      "outputs": [
        {
          "output_type": "stream",
          "name": "stdout",
          "text": [
            "Peter is constructed\n",
            "Peter party count 1\n"
          ]
        }
      ]
    },
    {
      "cell_type": "code",
      "source": [
        "#Inheritance: A child template inherits the properties of the first template\n",
        "class PartyAnimal:\n",
        "  x = 0\n",
        "  name = ''\n",
        "  \n",
        "  def __init__(self,z):\n",
        "    self.name = z\n",
        "    print(self.name, 'is constructed')\n",
        "\n",
        "  def party(self):\n",
        "    self.x = self.x + 1\n",
        "    print(self.name, 'party count', self.x)\n",
        "  \n",
        "class secondc(PartyAnimal):\n",
        "  y = 0\n",
        "  def touchdown(self):\n",
        "    self.y = self.y + 4\n",
        "    self.party()\n",
        "    print(self.name,'points',self.y)"
      ],
      "metadata": {
        "id": "oyOuLPss7Lny"
      },
      "execution_count": 11,
      "outputs": []
    },
    {
      "cell_type": "code",
      "source": [
        "k = secondc('Jim')\n",
        "k.party()\n",
        "k.touchdown()"
      ],
      "metadata": {
        "colab": {
          "base_uri": "https://localhost:8080/"
        },
        "id": "OvPq4MrT7D2K",
        "outputId": "77a22acd-95de-44c6-b655-ea7982fd476b"
      },
      "execution_count": 13,
      "outputs": [
        {
          "output_type": "stream",
          "name": "stdout",
          "text": [
            "Jim is constructed\n",
            "Jim party count 1\n",
            "Jim party count 2\n",
            "Jim points 4\n"
          ]
        }
      ]
    },
    {
      "cell_type": "code",
      "source": [
        "#Structured Query Language (SQL) used to issue command to the database.\n",
        "Users(name,email) VALUES('chidi','chidieonuoha')\n",
        "DELETE FROM Users WHERE email='chidieonuoha'\n",
        "UPDATE Users SET name='Charles' WHERE email='pat@hotmail.com'\n",
        "SELECT * FROM Users WHERE name='pat'\n",
        "SELECT * FROM Users WHERE ORDER BY email"
      ],
      "metadata": {
        "id": "YlV4cM0T7tZO"
      },
      "execution_count": null,
      "outputs": []
    }
  ]
}